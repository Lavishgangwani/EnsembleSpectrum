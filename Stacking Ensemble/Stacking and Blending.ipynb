{
 "cells": [
  {
   "cell_type": "code",
   "execution_count": 4,
   "id": "95e27b9d-9b4d-42d5-acbf-f62c54a70e14",
   "metadata": {},
   "outputs": [],
   "source": [
    "import numpy as np\n",
    "import pandas as pd\n",
    "import matplotlib.pyplot as plt\n",
    "import seaborn as sns\n",
    "\n",
    "from sklearn.ensemble import StackingClassifier,StackingRegressor\n",
    "from sklearn import metrics\n",
    "from sklearn.model_selection import train_test_split , GridSearchCV\n",
    "from sklearn import datasets , ensemble , svm , linear_model , tree"
   ]
  },
  {
   "cell_type": "code",
   "execution_count": 2,
   "id": "4f983a9e-a2b3-429f-ba1c-3bdd7ded4a31",
   "metadata": {},
   "outputs": [],
   "source": [
    "data = datasets.load_diabetes()\n",
    "df = pd.DataFrame(data.data , columns= data.feature_names)\n",
    "df['target'] = data.target"
   ]
  },
  {
   "cell_type": "code",
   "execution_count": 17,
   "id": "c7b193d9-56b1-4875-b5e4-744a7baa01b2",
   "metadata": {},
   "outputs": [],
   "source": [
    "#splitting the data \n",
    "x_train , x_test ,y_train , y_test = train_test_split(data.data , data.target , test_size=0.2)"
   ]
  },
  {
   "cell_type": "code",
   "execution_count": 26,
   "id": "b9782b41-126b-443c-a7cc-8571c05e63d2",
   "metadata": {},
   "outputs": [],
   "source": [
    "estimators = [('rfr',linear_model.Ridge()) , ('svr' , linear_model.Lasso()), ('gbr' ,linear_model.LinearRegression())]"
   ]
  },
  {
   "cell_type": "code",
   "execution_count": 27,
   "id": "8219ccee-50e8-49a0-af56-b58f69bf2f65",
   "metadata": {},
   "outputs": [
    {
     "data": {
      "text/html": [
       "<style>#sk-container-id-5 {color: black;background-color: white;}#sk-container-id-5 pre{padding: 0;}#sk-container-id-5 div.sk-toggleable {background-color: white;}#sk-container-id-5 label.sk-toggleable__label {cursor: pointer;display: block;width: 100%;margin-bottom: 0;padding: 0.3em;box-sizing: border-box;text-align: center;}#sk-container-id-5 label.sk-toggleable__label-arrow:before {content: \"▸\";float: left;margin-right: 0.25em;color: #696969;}#sk-container-id-5 label.sk-toggleable__label-arrow:hover:before {color: black;}#sk-container-id-5 div.sk-estimator:hover label.sk-toggleable__label-arrow:before {color: black;}#sk-container-id-5 div.sk-toggleable__content {max-height: 0;max-width: 0;overflow: hidden;text-align: left;background-color: #f0f8ff;}#sk-container-id-5 div.sk-toggleable__content pre {margin: 0.2em;color: black;border-radius: 0.25em;background-color: #f0f8ff;}#sk-container-id-5 input.sk-toggleable__control:checked~div.sk-toggleable__content {max-height: 200px;max-width: 100%;overflow: auto;}#sk-container-id-5 input.sk-toggleable__control:checked~label.sk-toggleable__label-arrow:before {content: \"▾\";}#sk-container-id-5 div.sk-estimator input.sk-toggleable__control:checked~label.sk-toggleable__label {background-color: #d4ebff;}#sk-container-id-5 div.sk-label input.sk-toggleable__control:checked~label.sk-toggleable__label {background-color: #d4ebff;}#sk-container-id-5 input.sk-hidden--visually {border: 0;clip: rect(1px 1px 1px 1px);clip: rect(1px, 1px, 1px, 1px);height: 1px;margin: -1px;overflow: hidden;padding: 0;position: absolute;width: 1px;}#sk-container-id-5 div.sk-estimator {font-family: monospace;background-color: #f0f8ff;border: 1px dotted black;border-radius: 0.25em;box-sizing: border-box;margin-bottom: 0.5em;}#sk-container-id-5 div.sk-estimator:hover {background-color: #d4ebff;}#sk-container-id-5 div.sk-parallel-item::after {content: \"\";width: 100%;border-bottom: 1px solid gray;flex-grow: 1;}#sk-container-id-5 div.sk-label:hover label.sk-toggleable__label {background-color: #d4ebff;}#sk-container-id-5 div.sk-serial::before {content: \"\";position: absolute;border-left: 1px solid gray;box-sizing: border-box;top: 0;bottom: 0;left: 50%;z-index: 0;}#sk-container-id-5 div.sk-serial {display: flex;flex-direction: column;align-items: center;background-color: white;padding-right: 0.2em;padding-left: 0.2em;position: relative;}#sk-container-id-5 div.sk-item {position: relative;z-index: 1;}#sk-container-id-5 div.sk-parallel {display: flex;align-items: stretch;justify-content: center;background-color: white;position: relative;}#sk-container-id-5 div.sk-item::before, #sk-container-id-5 div.sk-parallel-item::before {content: \"\";position: absolute;border-left: 1px solid gray;box-sizing: border-box;top: 0;bottom: 0;left: 50%;z-index: -1;}#sk-container-id-5 div.sk-parallel-item {display: flex;flex-direction: column;z-index: 1;position: relative;background-color: white;}#sk-container-id-5 div.sk-parallel-item:first-child::after {align-self: flex-end;width: 50%;}#sk-container-id-5 div.sk-parallel-item:last-child::after {align-self: flex-start;width: 50%;}#sk-container-id-5 div.sk-parallel-item:only-child::after {width: 0;}#sk-container-id-5 div.sk-dashed-wrapped {border: 1px dashed gray;margin: 0 0.4em 0.5em 0.4em;box-sizing: border-box;padding-bottom: 0.4em;background-color: white;}#sk-container-id-5 div.sk-label label {font-family: monospace;font-weight: bold;display: inline-block;line-height: 1.2em;}#sk-container-id-5 div.sk-label-container {text-align: center;}#sk-container-id-5 div.sk-container {/* jupyter's `normalize.less` sets `[hidden] { display: none; }` but bootstrap.min.css set `[hidden] { display: none !important; }` so we also need the `!important` here to be able to override the default hidden behavior on the sphinx rendered scikit-learn.org. See: https://github.com/scikit-learn/scikit-learn/issues/21755 */display: inline-block !important;position: relative;}#sk-container-id-5 div.sk-text-repr-fallback {display: none;}</style><div id=\"sk-container-id-5\" class=\"sk-top-container\"><div class=\"sk-text-repr-fallback\"><pre>StackingRegressor(cv=10,\n",
       "                  estimators=[(&#x27;rfr&#x27;, Ridge()), (&#x27;svr&#x27;, Lasso()),\n",
       "                              (&#x27;gbr&#x27;, LinearRegression())],\n",
       "                  final_estimator=RandomForestRegressor())</pre><b>In a Jupyter environment, please rerun this cell to show the HTML representation or trust the notebook. <br />On GitHub, the HTML representation is unable to render, please try loading this page with nbviewer.org.</b></div><div class=\"sk-container\" hidden><div class=\"sk-item sk-dashed-wrapped\"><div class=\"sk-label-container\"><div class=\"sk-label sk-toggleable\"><input class=\"sk-toggleable__control sk-hidden--visually\" id=\"sk-estimator-id-22\" type=\"checkbox\" ><label for=\"sk-estimator-id-22\" class=\"sk-toggleable__label sk-toggleable__label-arrow\">StackingRegressor</label><div class=\"sk-toggleable__content\"><pre>StackingRegressor(cv=10,\n",
       "                  estimators=[(&#x27;rfr&#x27;, Ridge()), (&#x27;svr&#x27;, Lasso()),\n",
       "                              (&#x27;gbr&#x27;, LinearRegression())],\n",
       "                  final_estimator=RandomForestRegressor())</pre></div></div></div><div class=\"sk-serial\"><div class=\"sk-item\"><div class=\"sk-parallel\"><div class=\"sk-parallel-item\"><div class=\"sk-item\"><div class=\"sk-label-container\"><div class=\"sk-label sk-toggleable\"><label>rfr</label></div></div><div class=\"sk-serial\"><div class=\"sk-item\"><div class=\"sk-estimator sk-toggleable\"><input class=\"sk-toggleable__control sk-hidden--visually\" id=\"sk-estimator-id-23\" type=\"checkbox\" ><label for=\"sk-estimator-id-23\" class=\"sk-toggleable__label sk-toggleable__label-arrow\">Ridge</label><div class=\"sk-toggleable__content\"><pre>Ridge()</pre></div></div></div></div></div></div><div class=\"sk-parallel-item\"><div class=\"sk-item\"><div class=\"sk-label-container\"><div class=\"sk-label sk-toggleable\"><label>svr</label></div></div><div class=\"sk-serial\"><div class=\"sk-item\"><div class=\"sk-estimator sk-toggleable\"><input class=\"sk-toggleable__control sk-hidden--visually\" id=\"sk-estimator-id-24\" type=\"checkbox\" ><label for=\"sk-estimator-id-24\" class=\"sk-toggleable__label sk-toggleable__label-arrow\">Lasso</label><div class=\"sk-toggleable__content\"><pre>Lasso()</pre></div></div></div></div></div></div><div class=\"sk-parallel-item\"><div class=\"sk-item\"><div class=\"sk-label-container\"><div class=\"sk-label sk-toggleable\"><label>gbr</label></div></div><div class=\"sk-serial\"><div class=\"sk-item\"><div class=\"sk-estimator sk-toggleable\"><input class=\"sk-toggleable__control sk-hidden--visually\" id=\"sk-estimator-id-25\" type=\"checkbox\" ><label for=\"sk-estimator-id-25\" class=\"sk-toggleable__label sk-toggleable__label-arrow\">LinearRegression</label><div class=\"sk-toggleable__content\"><pre>LinearRegression()</pre></div></div></div></div></div></div></div></div><div class=\"sk-item\"><div class=\"sk-parallel\"><div class=\"sk-parallel-item\"><div class=\"sk-item\"><div class=\"sk-label-container\"><div class=\"sk-label sk-toggleable\"><label>final_estimator</label></div></div><div class=\"sk-serial\"><div class=\"sk-item\"><div class=\"sk-estimator sk-toggleable\"><input class=\"sk-toggleable__control sk-hidden--visually\" id=\"sk-estimator-id-26\" type=\"checkbox\" ><label for=\"sk-estimator-id-26\" class=\"sk-toggleable__label sk-toggleable__label-arrow\">RandomForestRegressor</label><div class=\"sk-toggleable__content\"><pre>RandomForestRegressor()</pre></div></div></div></div></div></div></div></div></div></div></div></div>"
      ],
      "text/plain": [
       "StackingRegressor(cv=10,\n",
       "                  estimators=[('rfr', Ridge()), ('svr', Lasso()),\n",
       "                              ('gbr', LinearRegression())],\n",
       "                  final_estimator=RandomForestRegressor())"
      ]
     },
     "execution_count": 27,
     "metadata": {},
     "output_type": "execute_result"
    }
   ],
   "source": [
    "sr = StackingRegressor(estimators=estimators , final_estimator=ensemble.RandomForestRegressor() , cv=10)\n",
    "sr.fit(x_train,y_train)"
   ]
  },
  {
   "cell_type": "code",
   "execution_count": 28,
   "id": "70d0b67a-b595-4815-8da9-ec795f9c485c",
   "metadata": {},
   "outputs": [],
   "source": [
    "from sklearn.metrics import r2_score"
   ]
  },
  {
   "cell_type": "code",
   "execution_count": 29,
   "id": "807f6344-4b6c-42df-bd04-7b2df9371a4d",
   "metadata": {},
   "outputs": [
    {
     "data": {
      "text/plain": [
       "0.25689286166910974"
      ]
     },
     "execution_count": 29,
     "metadata": {},
     "output_type": "execute_result"
    }
   ],
   "source": [
    "r2_score(y_true=y_test , y_pred=sr.predict(x_test))"
   ]
  },
  {
   "cell_type": "code",
   "execution_count": 31,
   "id": "0064c97b-472c-4a9f-a648-e8854e96d550",
   "metadata": {},
   "outputs": [
    {
     "name": "stdout",
     "output_type": "stream",
     "text": [
      "Best Parameters: {'final_estimator__bootstrap': True, 'final_estimator__max_depth': None, 'final_estimator__min_samples_leaf': 4, 'final_estimator__min_samples_split': 10, 'final_estimator__n_estimators': 100}\n",
      "Best Score: 0.4286767831545741\n"
     ]
    }
   ],
   "source": [
    "# Define the base estimators for the StackingRegressor\n",
    "# Example base estimators:\n",
    "estimators = [('ridge', linear_model.Ridge()), ('lasso', linear_model.Lasso()), ('svr', svm.SVR())]\n",
    "\n",
    "# Define the StackingRegressor\n",
    "sr1 = StackingRegressor(estimators=estimators, final_estimator=ensemble.RandomForestRegressor())\n",
    "\n",
    "param_grid = {\n",
    "    'final_estimator__n_estimators': [50, 100, 200],\n",
    "    'final_estimator__max_depth': [None, 10, 20],\n",
    "    # Additional parameters to tune\n",
    "    'final_estimator__min_samples_split': [2, 5, 10],\n",
    "    'final_estimator__min_samples_leaf': [1, 2, 4],\n",
    "    'final_estimator__bootstrap': [True, False],\n",
    "}\n",
    "\n",
    "# Create the GridSearchCV object\n",
    "gsearch = GridSearchCV(estimator=sr1, param_grid=param_grid, scoring='r2', cv=10, n_jobs=-1)\n",
    "\n",
    "# Fit the GridSearchCV object to the training data\n",
    "gsearch.fit(x_train, y_train)\n",
    "\n",
    "# Get the best parameters and best score\n",
    "best_params = gsearch.best_params_\n",
    "best_score = gsearch.best_score_\n",
    "\n",
    "\n",
    "print(\"Best Parameters:\", gsearch.best_params_)\n",
    "print(\"Best Score:\", gsearch.best_score_)\n"
   ]
  },
  {
   "cell_type": "code",
   "execution_count": 34,
   "id": "1004be9c-ff9c-422a-85b7-fa92927ef1b3",
   "metadata": {},
   "outputs": [
    {
     "name": "stdout",
     "output_type": "stream",
     "text": [
      "Best Parameters (Base Estimators): {'lasso__alpha': 0.1, 'ridge__alpha': 10.0, 'svr__C': 10.0}\n",
      "Best Score (Base Estimators): 0.4617980539064231\n",
      "Base Estimators Grid Search Time: 24.413153171539307\n",
      "Best Parameters (Final Estimator): {'final_estimator__bootstrap': True, 'final_estimator__max_depth': None, 'final_estimator__min_samples_leaf': 4, 'final_estimator__min_samples_split': 10, 'final_estimator__n_estimators': 100}\n",
      "Best Score (Final Estimator): 0.4300584548277258\n",
      "Final Estimator Grid Search Time: 144.9639904499054\n"
     ]
    }
   ],
   "source": [
    "import time\n",
    "base_estimators = [\n",
    "    ('ridge', linear_model.Ridge()),\n",
    "    ('lasso', linear_model.Lasso()),\n",
    "    ('svr', svm.SVR())\n",
    "]\n",
    "\n",
    "# Define the StackingRegressor\n",
    "sr2 = StackingRegressor(estimators=base_estimators, final_estimator=ensemble.RandomForestRegressor())\n",
    "\n",
    "# Define the parameter grid for base estimators\n",
    "param_grid_base = {\n",
    "    'ridge__alpha': [0.1, 1.0, 10.0],  # Ridge hyperparameters\n",
    "    'lasso__alpha': [0.1, 1.0, 10.0],  # Lasso hyperparameters\n",
    "    'svr__C': [0.1, 1.0, 10.0],        # SVR hyperparameters\n",
    "}\n",
    "\n",
    "# Define the parameter grid for the final estimator\n",
    "param_grid_final = {\n",
    "    'final_estimator__n_estimators': [50, 100, 200],\n",
    "    'final_estimator__max_depth': [None, 10, 20],\n",
    "    'final_estimator__min_samples_split': [2, 5, 10],\n",
    "    'final_estimator__min_samples_leaf': [1, 2, 4],\n",
    "    'final_estimator__bootstrap': [True, False],\n",
    "}\n",
    "\n",
    "# Create the GridSearchCV objects for base and final estimators\n",
    "start_time = time.time()\n",
    "gsearch_base = GridSearchCV(estimator=sr2, param_grid=param_grid_base, scoring='r2', cv=5, n_jobs=-1)\n",
    "gsearch_base.fit(x_train, y_train)\n",
    "base_time = time.time() - start_time\n",
    "\n",
    "start_time = time.time()\n",
    "gsearch_final = GridSearchCV(estimator=sr2, param_grid=param_grid_final, scoring='r2', cv=5, n_jobs=-1)\n",
    "gsearch_final.fit(x_train, y_train)\n",
    "final_time = time.time() - start_time\n",
    "\n",
    "# Get the best parameters and best score for base and final estimators\n",
    "best_params_base = gsearch_base.best_params_\n",
    "best_score_base = gsearch_base.best_score_\n",
    "best_params_final = gsearch_final.best_params_\n",
    "best_score_final = gsearch_final.best_score_\n",
    "\n",
    "# Print the best parameters and best scores\n",
    "print(\"Best Parameters (Base Estimators):\", best_params_base)\n",
    "print(\"Best Score (Base Estimators):\", best_score_base)\n",
    "print(\"Base Estimators Grid Search Time:\", base_time)\n",
    "print(\"Best Parameters (Final Estimator):\", best_params_final)\n",
    "print(\"Best Score (Final Estimator):\", best_score_final)\n",
    "print(\"Final Estimator Grid Search Time:\", final_time)"
   ]
  },
  {
   "cell_type": "code",
   "execution_count": 40,
   "id": "6efd27c6-68ed-42ee-afcc-8dc9739e17a6",
   "metadata": {},
   "outputs": [
    {
     "data": {
      "text/plain": [
       "0.36259083681111437"
      ]
     },
     "execution_count": 40,
     "metadata": {},
     "output_type": "execute_result"
    }
   ],
   "source": [
    "import time\n",
    "base_estimators = [\n",
    "    ('ridge', linear_model.Ridge(alpha=10.0)),\n",
    "    ('lasso', linear_model.Lasso(alpha=0.1)),\n",
    "    ('svr', svm.SVR(C=10.0))\n",
    "]\n",
    "\n",
    "# Define the StackingRegressor\n",
    "sr3 = StackingRegressor(estimators=base_estimators, final_estimator=ensemble.RandomForestRegressor(n_estimators=100,\n",
    "                                                                                                   bootstrap=True,\n",
    "                                                                                                  max_depth=None,\n",
    "                                                                                                  min_samples_leaf=4,\n",
    "                                                                                                  min_samples_split=10))\n",
    "sr3.fit(x_train,y_train)\n",
    "r2_score(y_true=y_test , y_pred=sr3.predict(x_test))"
   ]
  },
  {
   "cell_type": "code",
   "execution_count": null,
   "id": "979e3561-f8f6-4618-afb3-01eb3e257ad4",
   "metadata": {},
   "outputs": [],
   "source": []
  }
 ],
 "metadata": {
  "kernelspec": {
   "display_name": "Python 3 (ipykernel)",
   "language": "python",
   "name": "python3"
  },
  "language_info": {
   "codemirror_mode": {
    "name": "ipython",
    "version": 3
   },
   "file_extension": ".py",
   "mimetype": "text/x-python",
   "name": "python",
   "nbconvert_exporter": "python",
   "pygments_lexer": "ipython3",
   "version": "3.11.7"
  },
  "widgets": {
   "application/vnd.jupyter.widget-state+json": {
    "state": {},
    "version_major": 2,
    "version_minor": 0
   }
  }
 },
 "nbformat": 4,
 "nbformat_minor": 5
}
