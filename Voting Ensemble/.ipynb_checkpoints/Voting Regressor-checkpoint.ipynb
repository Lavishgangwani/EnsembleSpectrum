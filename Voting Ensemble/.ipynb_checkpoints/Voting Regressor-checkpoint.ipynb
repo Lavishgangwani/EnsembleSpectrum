{
 "cells": [
  {
   "cell_type": "code",
   "execution_count": 1,
   "id": "8a9514a8-aec8-4ec2-abe9-d5bea69332b8",
   "metadata": {},
   "outputs": [],
   "source": [
    "import numpy as np\n",
    "import pandas as pd\n",
    "import matplotlib.pyplot as plt\n",
    "import seaborn as sns\n",
    "from sklearn.linear_model import LinearRegression\n",
    "from sklearn.tree import DecisionTreeRegressor\n",
    "from sklearn.svm import SVR\n",
    "from sklearn.ensemble import RandomForestRegressor\n",
    "from sklearn.datasets import fetch_california_housing\n",
    "from sklearn.model_selection import GridSearchCV , train_test_split , cross_val_score"
   ]
  },
  {
   "cell_type": "code",
   "execution_count": 2,
   "id": "7406fd56-9f9e-42aa-9716-514943372695",
   "metadata": {},
   "outputs": [
    {
     "data": {
      "text/html": [
       "<div>\n",
       "<style scoped>\n",
       "    .dataframe tbody tr th:only-of-type {\n",
       "        vertical-align: middle;\n",
       "    }\n",
       "\n",
       "    .dataframe tbody tr th {\n",
       "        vertical-align: top;\n",
       "    }\n",
       "\n",
       "    .dataframe thead th {\n",
       "        text-align: right;\n",
       "    }\n",
       "</style>\n",
       "<table border=\"1\" class=\"dataframe\">\n",
       "  <thead>\n",
       "    <tr style=\"text-align: right;\">\n",
       "      <th></th>\n",
       "      <th>MedInc</th>\n",
       "      <th>HouseAge</th>\n",
       "      <th>AveRooms</th>\n",
       "      <th>AveBedrms</th>\n",
       "      <th>Population</th>\n",
       "      <th>AveOccup</th>\n",
       "      <th>Latitude</th>\n",
       "      <th>Longitude</th>\n",
       "      <th>MedHouseVal</th>\n",
       "    </tr>\n",
       "  </thead>\n",
       "  <tbody>\n",
       "    <tr>\n",
       "      <th>0</th>\n",
       "      <td>8.3252</td>\n",
       "      <td>41.0</td>\n",
       "      <td>6.984127</td>\n",
       "      <td>1.023810</td>\n",
       "      <td>322.0</td>\n",
       "      <td>2.555556</td>\n",
       "      <td>37.88</td>\n",
       "      <td>-122.23</td>\n",
       "      <td>4.526</td>\n",
       "    </tr>\n",
       "    <tr>\n",
       "      <th>1</th>\n",
       "      <td>8.3014</td>\n",
       "      <td>21.0</td>\n",
       "      <td>6.238137</td>\n",
       "      <td>0.971880</td>\n",
       "      <td>2401.0</td>\n",
       "      <td>2.109842</td>\n",
       "      <td>37.86</td>\n",
       "      <td>-122.22</td>\n",
       "      <td>3.585</td>\n",
       "    </tr>\n",
       "    <tr>\n",
       "      <th>2</th>\n",
       "      <td>7.2574</td>\n",
       "      <td>52.0</td>\n",
       "      <td>8.288136</td>\n",
       "      <td>1.073446</td>\n",
       "      <td>496.0</td>\n",
       "      <td>2.802260</td>\n",
       "      <td>37.85</td>\n",
       "      <td>-122.24</td>\n",
       "      <td>3.521</td>\n",
       "    </tr>\n",
       "    <tr>\n",
       "      <th>3</th>\n",
       "      <td>5.6431</td>\n",
       "      <td>52.0</td>\n",
       "      <td>5.817352</td>\n",
       "      <td>1.073059</td>\n",
       "      <td>558.0</td>\n",
       "      <td>2.547945</td>\n",
       "      <td>37.85</td>\n",
       "      <td>-122.25</td>\n",
       "      <td>3.413</td>\n",
       "    </tr>\n",
       "    <tr>\n",
       "      <th>4</th>\n",
       "      <td>3.8462</td>\n",
       "      <td>52.0</td>\n",
       "      <td>6.281853</td>\n",
       "      <td>1.081081</td>\n",
       "      <td>565.0</td>\n",
       "      <td>2.181467</td>\n",
       "      <td>37.85</td>\n",
       "      <td>-122.25</td>\n",
       "      <td>3.422</td>\n",
       "    </tr>\n",
       "  </tbody>\n",
       "</table>\n",
       "</div>"
      ],
      "text/plain": [
       "   MedInc  HouseAge  AveRooms  AveBedrms  Population  AveOccup  Latitude  \\\n",
       "0  8.3252      41.0  6.984127   1.023810       322.0  2.555556     37.88   \n",
       "1  8.3014      21.0  6.238137   0.971880      2401.0  2.109842     37.86   \n",
       "2  7.2574      52.0  8.288136   1.073446       496.0  2.802260     37.85   \n",
       "3  5.6431      52.0  5.817352   1.073059       558.0  2.547945     37.85   \n",
       "4  3.8462      52.0  6.281853   1.081081       565.0  2.181467     37.85   \n",
       "\n",
       "   Longitude  MedHouseVal  \n",
       "0    -122.23        4.526  \n",
       "1    -122.22        3.585  \n",
       "2    -122.24        3.521  \n",
       "3    -122.25        3.413  \n",
       "4    -122.25        3.422  "
      ]
     },
     "execution_count": 2,
     "metadata": {},
     "output_type": "execute_result"
    }
   ],
   "source": [
    "data , target = fetch_california_housing(return_X_y=True , as_frame=True)\n",
    "df = pd.concat([data , target] , axis=1)\n",
    "df.head()"
   ]
  },
  {
   "cell_type": "code",
   "execution_count": 3,
   "id": "25ebd73f-2559-4e71-8c3a-8fd961014345",
   "metadata": {},
   "outputs": [],
   "source": [
    "X = df.iloc[:,0:8]\n",
    "y = df.iloc[:,-1]"
   ]
  },
  {
   "cell_type": "code",
   "execution_count": 4,
   "id": "e936683c-48ad-4685-8aba-5d644beb5dfb",
   "metadata": {},
   "outputs": [
    {
     "data": {
      "text/html": [
       "<div>\n",
       "<style scoped>\n",
       "    .dataframe tbody tr th:only-of-type {\n",
       "        vertical-align: middle;\n",
       "    }\n",
       "\n",
       "    .dataframe tbody tr th {\n",
       "        vertical-align: top;\n",
       "    }\n",
       "\n",
       "    .dataframe thead th {\n",
       "        text-align: right;\n",
       "    }\n",
       "</style>\n",
       "<table border=\"1\" class=\"dataframe\">\n",
       "  <thead>\n",
       "    <tr style=\"text-align: right;\">\n",
       "      <th></th>\n",
       "      <th>MedInc</th>\n",
       "      <th>HouseAge</th>\n",
       "      <th>AveRooms</th>\n",
       "      <th>AveBedrms</th>\n",
       "      <th>Population</th>\n",
       "      <th>AveOccup</th>\n",
       "      <th>Latitude</th>\n",
       "      <th>Longitude</th>\n",
       "    </tr>\n",
       "  </thead>\n",
       "  <tbody>\n",
       "    <tr>\n",
       "      <th>0</th>\n",
       "      <td>8.3252</td>\n",
       "      <td>41.0</td>\n",
       "      <td>6.984127</td>\n",
       "      <td>1.02381</td>\n",
       "      <td>322.0</td>\n",
       "      <td>2.555556</td>\n",
       "      <td>37.88</td>\n",
       "      <td>-122.23</td>\n",
       "    </tr>\n",
       "    <tr>\n",
       "      <th>1</th>\n",
       "      <td>8.3014</td>\n",
       "      <td>21.0</td>\n",
       "      <td>6.238137</td>\n",
       "      <td>0.97188</td>\n",
       "      <td>2401.0</td>\n",
       "      <td>2.109842</td>\n",
       "      <td>37.86</td>\n",
       "      <td>-122.22</td>\n",
       "    </tr>\n",
       "  </tbody>\n",
       "</table>\n",
       "</div>"
      ],
      "text/plain": [
       "   MedInc  HouseAge  AveRooms  AveBedrms  Population  AveOccup  Latitude  \\\n",
       "0  8.3252      41.0  6.984127    1.02381       322.0  2.555556     37.88   \n",
       "1  8.3014      21.0  6.238137    0.97188      2401.0  2.109842     37.86   \n",
       "\n",
       "   Longitude  \n",
       "0    -122.23  \n",
       "1    -122.22  "
      ]
     },
     "execution_count": 4,
     "metadata": {},
     "output_type": "execute_result"
    }
   ],
   "source": [
    "X.head(2)"
   ]
  },
  {
   "cell_type": "code",
   "execution_count": 5,
   "id": "5bda4a59-b327-4ccc-8436-0a1c018c7d08",
   "metadata": {},
   "outputs": [
    {
     "data": {
      "text/plain": [
       "0    4.526\n",
       "1    3.585\n",
       "Name: MedHouseVal, dtype: float64"
      ]
     },
     "execution_count": 5,
     "metadata": {},
     "output_type": "execute_result"
    }
   ],
   "source": [
    "y.head(2)"
   ]
  },
  {
   "cell_type": "code",
   "execution_count": 6,
   "id": "5a250d77-f136-418b-a670-7da2fabb832c",
   "metadata": {},
   "outputs": [],
   "source": [
    "reg1 = LinearRegression()\n",
    "reg2 = DecisionTreeRegressor()\n",
    "reg3 = SVR()\n",
    "reg4 = RandomForestRegressor()"
   ]
  },
  {
   "cell_type": "code",
   "execution_count": 7,
   "id": "5ce4aefd-6a84-4407-841b-fa4b9f460377",
   "metadata": {},
   "outputs": [],
   "source": [
    "estimators = [('LR' , reg1),('DT' , reg2),('SVR' , reg3),('RF' , reg4)]"
   ]
  },
  {
   "cell_type": "code",
   "execution_count": 8,
   "id": "4c00ffd8-9be0-41dd-8c46-e827601225f6",
   "metadata": {},
   "outputs": [],
   "source": [
    "X_train , X_test , y_train , y_test = train_test_split(X,y,test_size=0.2)"
   ]
  },
  {
   "cell_type": "code",
   "execution_count": 9,
   "id": "96396668-dfe4-4113-9d15-b2df3eb73ada",
   "metadata": {},
   "outputs": [
    {
     "name": "stdout",
     "output_type": "stream",
     "text": [
      "LR 0.6\n",
      "DT 0.6\n",
      "SVR -0.03\n",
      "RF 0.8\n"
     ]
    }
   ],
   "source": [
    "for estimator in estimators:\n",
    "    scores = cross_val_score(estimator[1],X_train,y_train,cv=10,scoring='r2')\n",
    "    print(estimator[0] , np.round(np.mean(scores),2))"
   ]
  },
  {
   "cell_type": "code",
   "execution_count": 10,
   "id": "a4c03adc-35aa-420e-bb15-61c6ea03946d",
   "metadata": {},
   "outputs": [],
   "source": [
    "from sklearn.ensemble import VotingRegressor"
   ]
  },
  {
   "cell_type": "code",
   "execution_count": 11,
   "id": "1cbd4bf5-0472-4214-9cbb-c6480a49e631",
   "metadata": {},
   "outputs": [
    {
     "name": "stdout",
     "output_type": "stream",
     "text": [
      "0.7\n"
     ]
    }
   ],
   "source": [
    "vc = VotingRegressor(estimators=estimators)\n",
    "x = cross_val_score(vc,X_train,y_train,cv=10,scoring='r2')\n",
    "print(np.round(np.mean(x),2))"
   ]
  },
  {
   "cell_type": "code",
   "execution_count": 12,
   "id": "d3d9425e-2a43-4929-bce1-dd6954e87ac6",
   "metadata": {},
   "outputs": [
    {
     "name": "stdout",
     "output_type": "stream",
     "text": [
      "X Train:  (16512, 8)\n",
      "Y Train:  (16512,)\n"
     ]
    }
   ],
   "source": [
    "print(\"X Train: \",X_train.shape)\n",
    "print(\"Y Train: \",y_train.shape)"
   ]
  },
  {
   "cell_type": "code",
   "execution_count": 13,
   "id": "890773f3-e9fb-411d-9cc2-4e3a43c9dae0",
   "metadata": {},
   "outputs": [],
   "source": [
    "#for i in range(1,4):\n",
    "#    for j in range(1,4):\n",
    "#        for k in range(1,4):\n",
    "#            for m in range(1,4):\n",
    "#                vc1 = VotingRegressor(estimators=estimators , weights=[i,j,k,m])\n",
    "#                x = cross_val_score(vc1,X_train,y_train,cv=10,scoring='r2')\n",
    "#                print(\"For i={},j={},k={},m={}\".format(i,j,k,m),np.round(np.mean(x),2))"
   ]
  },
  {
   "cell_type": "code",
   "execution_count": 15,
   "id": "704e404e-6d2a-479f-a84e-d5cdd150062a",
   "metadata": {},
   "outputs": [],
   "source": [
    "#For i=1,j=1,k=1,m=1 0.7\n",
    "#For i=1,j=1,k=1,m=2 0.74\n",
    "#For i=1,j=1,k=1,m=3 0.76\n",
    "#For i=1,j=1,k=2,m=1 0.62\n",
    "#For i=1,j=1,k=2,m=2 0.68\n",
    "#For i=1,j=1,k=2,m=3 0.71\n",
    "#For i=1,j=1,k=3,m=1 0.55\n",
    "#For i=1,j=1,k=3,m=2 0.62\n",
    "#For i=1,j=1,k=3,m=3 0.66\n",
    "#For i=1,j=2,k=1,m=1 0.72\n",
    "#For i=1,j=2,k=1,m=2 0.75\n",
    "#For i=1,j=2,k=1,m=3 0.76\n",
    "#For i=1,j=2,k=2,m=1 0.67\n",
    "#For i=1,j=2,k=2,m=2 0.7\n",
    "#For i=1,j=2,k=2,m=3 0.73\n",
    "#For i=1,j=2,k=3,m=1 0.61"
   ]
  },
  {
   "cell_type": "code",
   "execution_count": 17,
   "id": "f1043659-70ca-45c9-8936-2a11a5cb451d",
   "metadata": {},
   "outputs": [
    {
     "name": "stdout",
     "output_type": "stream",
     "text": [
      "0.75\n"
     ]
    }
   ],
   "source": [
    "vc2 = VotingRegressor(estimators=estimators , weights=[1,1,1,3])\n",
    "x = cross_val_score(vc2,X_train,y_train,cv=10,scoring='r2')\n",
    "print(np.round(np.mean(x),2))"
   ]
  },
  {
   "cell_type": "code",
   "execution_count": null,
   "id": "541dfca0-40cd-45f6-b83a-7b4828daa338",
   "metadata": {},
   "outputs": [],
   "source": []
  }
 ],
 "metadata": {
  "kernelspec": {
   "display_name": "Python 3 (ipykernel)",
   "language": "python",
   "name": "python3"
  },
  "language_info": {
   "codemirror_mode": {
    "name": "ipython",
    "version": 3
   },
   "file_extension": ".py",
   "mimetype": "text/x-python",
   "name": "python",
   "nbconvert_exporter": "python",
   "pygments_lexer": "ipython3",
   "version": "3.11.7"
  },
  "widgets": {
   "application/vnd.jupyter.widget-state+json": {
    "state": {},
    "version_major": 2,
    "version_minor": 0
   }
  }
 },
 "nbformat": 4,
 "nbformat_minor": 5
}
